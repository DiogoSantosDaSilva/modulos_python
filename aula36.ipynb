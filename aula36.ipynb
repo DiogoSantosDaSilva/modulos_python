{
 "cells": [
  {
   "cell_type": "markdown",
   "id": "61d9788c-55fb-4ed7-9220-6febe570e5a8",
   "metadata": {},
   "source": [
    "# Esse é o meu título\n",
    "# Essa linha cria uma variável `a`."
   ]
  },
  {
   "cell_type": "markdown",
   "id": "013e22f1-6ce4-451f-b594-aff5b8fc441b",
   "metadata": {},
   "source": [
    "# Essa linha tem o valor da variável `a` em dobro"
   ]
  },
  {
   "cell_type": "markdown",
   "id": "3f1d1e68-f19d-415c-8df4-a57ee2179757",
   "metadata": {},
   "source": [
    "# Essa linha mostra o valor de `a` + `b`"
   ]
  },
  {
   "cell_type": "code",
   "execution_count": 7,
   "id": "bb2ae3d5-e48f-4d69-a061-30c424857fc8",
   "metadata": {},
   "outputs": [
    {
     "name": "stdout",
     "output_type": "stream",
     "text": [
      "6\n"
     ]
    }
   ],
   "source": [
    "print(a + b) "
   ]
  },
  {
   "cell_type": "code",
   "execution_count": null,
   "id": "904d7ee8-2965-4d28-bc61-af6f2daa4037",
   "metadata": {},
   "outputs": [],
   "source": []
  }
 ],
 "metadata": {
  "kernelspec": {
   "display_name": "Python 3 (ipykernel)",
   "language": "python",
   "name": "python3"
  },
  "language_info": {
   "codemirror_mode": {
    "name": "ipython",
    "version": 3
   },
   "file_extension": ".py",
   "mimetype": "text/x-python",
   "name": "python",
   "nbconvert_exporter": "python",
   "pygments_lexer": "ipython3",
   "version": "3.11.1"
  }
 },
 "nbformat": 4,
 "nbformat_minor": 5
}
